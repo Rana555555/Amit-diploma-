{
 "cells": [
  {
   "cell_type": "markdown",
   "id": "c6b64d75",
   "metadata": {},
   "source": [
    "# Lets calculate the gravitational force \n"
   ]
  },
  {
   "cell_type": "code",
   "execution_count": 2,
   "id": "6757447b",
   "metadata": {},
   "outputs": [
    {
     "name": "stdout",
     "output_type": "stream",
     "text": [
      "G= 6.67\n",
      "ME= 6.0\n",
      "MM= 7.34\n",
      "R= 3.84\n",
      "result =1.9920979817708333e+20\n"
     ]
    }
   ],
   "source": [
    "G=float(input(\"G= \"))\n",
    "ME=float(input(\"ME= \"))\n",
    "MM=float (input(\"MM= \"))\n",
    "R=float (input(\"R= \"))\n",
    "    \n",
    "G=G*(10**-11)\n",
    "ME=ME*(10**24)\n",
    "MM=MM*(10**22) \n",
    "R=R*(10**8)\n",
    "Fg=Fg*(10**20)\n",
    "\n",
    "Fg =(G*MM*ME)/(R**2)\n",
    "\n",
    "print('result ={}'.format(Fg))"
   ]
  },
  {
   "cell_type": "code",
   "execution_count": null,
   "id": "4582108a",
   "metadata": {},
   "outputs": [],
   "source": [
    "\n"
   ]
  }
 ],
 "metadata": {
  "kernelspec": {
   "display_name": "Python 3 (ipykernel)",
   "language": "python",
   "name": "python3"
  },
  "language_info": {
   "codemirror_mode": {
    "name": "ipython",
    "version": 3
   },
   "file_extension": ".py",
   "mimetype": "text/x-python",
   "name": "python",
   "nbconvert_exporter": "python",
   "pygments_lexer": "ipython3",
   "version": "3.9.13"
  }
 },
 "nbformat": 4,
 "nbformat_minor": 5
}
